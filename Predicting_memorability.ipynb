{
  "nbformat": 4,
  "nbformat_minor": 0,
  "metadata": {
    "colab": {
      "name": "Rasika_Mehta_20210036_predicting_memorability.ipynb",
      "provenance": [],
      "collapsed_sections": [],
      "toc_visible": true
    },
    "kernelspec": {
      "display_name": "Python 3",
      "name": "python3"
    },
    "language_info": {
      "name": "python"
    },
    "accelerator": "GPU"
  },
  "cells": [
    {
      "cell_type": "markdown",
      "metadata": {
        "id": "1BCrLX7pQw7a"
      },
      "source": [
        "# **Importing required libraries**"
      ]
    },
    {
      "cell_type": "code",
      "metadata": {
        "id": "bbVmdrIiANLy"
      },
      "source": [
        "import time \n",
        "import glob\n",
        "import os\n",
        "import numpy as np\n",
        "import pandas as pd\n",
        "import matplotlib.pyplot as plt\n",
        "\n",
        "#importing ML methods used in this notebook\n",
        "from tqdm import tqdm \n",
        "from pathlib import Path\n",
        "from sklearn.model_selection import train_test_split\n",
        "from sklearn.linear_model import LinearRegression\n",
        "from sklearn.tree import DecisionTreeRegressor\n",
        "from sklearn.model_selection import GridSearchCV as GridSearch\n",
        "from sklearn.ensemble import RandomForestRegressor\n",
        "import xgboost as XGBoost\n",
        "from keras import Sequential\n",
        "from keras import layers\n",
        "from keras import regularizers"
      ],
      "execution_count": 1,
      "outputs": []
    },
    {
      "cell_type": "markdown",
      "metadata": {
        "id": "PJpFFMkRQ84z"
      },
      "source": [
        "# **Calculating Spearman's Ranking Coefficient**"
      ]
    },
    {
      "cell_type": "code",
      "metadata": {
        "id": "B8WO4lBpBJ_J"
      },
      "source": [
        "#Method to calculate Spearman Ranking Correlation coefficient\n",
        "def Spearman_Ranking(Y_pred,Y_true):\n",
        "    Y_pred = np.squeeze(Y_pred)\n",
        "    Y_true = np.squeeze(Y_true)\n",
        "    if Y_pred.shape != Y_true.shape:\n",
        "        print('Shape of Input prediction does not match')\n",
        "    else:\n",
        "        if len(Y_pred.shape) == 1:\n",
        "            Res = pd.DataFrame({'Y_true':Y_true,'Y_pred':Y_pred})\n",
        "            score_mat = Res[['Y_true','Y_pred']].corr(method='spearman',min_periods=1)\n",
        "            print('The Spearman\\'s correlation coefficient is: %.3f' % score_mat.iloc[1][0])\n",
        "        else:\n",
        "            for ii in range(Y_pred.shape[1]):\n",
        "                Spearman_Ranking(Y_pred[:,ii],Y_true[:,ii])"
      ],
      "execution_count": 2,
      "outputs": []
    },
    {
      "cell_type": "markdown",
      "metadata": {
        "id": "bMR3ioIKRe6K"
      },
      "source": [
        "# **Load Ground Truths**"
      ]
    },
    {
      "cell_type": "code",
      "metadata": {
        "id": "OUAfjJrZbQEN"
      },
      "source": [
        "Ground_Truth_Dev = pd.read_csv('/content/drive/MyDrive/CA684_Assignment/Dev-set/Ground-truth/ground-truth.csv')\n",
        "Ground_Truth_Dev = Ground_Truth_Dev.drop(['nb_short-term_annotations', 'nb_long-term_annotations'], axis=1)"
      ],
      "execution_count": 3,
      "outputs": []
    },
    {
      "cell_type": "markdown",
      "metadata": {
        "id": "8tsL6dFjA0B-"
      },
      "source": [
        "# ***Fetching C3D Features***"
      ]
    },
    {
      "cell_type": "code",
      "metadata": {
        "id": "IosC2aSfAzjy"
      },
      "source": [
        "#Method for Extracting C3D features from files\n",
        "def C3D_Fetch(C3D_Path):\n",
        "  C3D_Feature=[]\n",
        "  C3D_Files = os.listdir(C3D_Path)\n",
        "  for file in tqdm(C3D_Files):\n",
        "     C3D_Feature.append(np.loadtxt(C3D_Path+file))\n",
        "  return C3D_Feature"
      ],
      "execution_count": 10,
      "outputs": []
    },
    {
      "cell_type": "code",
      "metadata": {
        "colab": {
          "base_uri": "https://localhost:8080/"
        },
        "id": "Wvaa5GJ1BIH2",
        "outputId": "114e203c-a5cf-4102-8142-29f7b3a04a9f"
      },
      "source": [
        "#Extracting C3D features \n",
        "C3D_Path = '/content/drive/MyDrive/CA684_Assignment/Dev-set/C3D/'\n",
        "C3D_Feature = []\n",
        "C3D_Feature = C3D_Fetch(C3D_Path)"
      ],
      "execution_count": null,
      "outputs": [
        {
          "output_type": "stream",
          "text": [
            "100%|██████████| 6000/6000 [20:36<00:00,  4.85it/s]\n"
          ],
          "name": "stderr"
        }
      ]
    },
    {
      "cell_type": "code",
      "metadata": {
        "id": "WxwBouckBpDh"
      },
      "source": [
        "#Save Features C3D in npy files for future reference\n",
        "np.save(\"/content/drive/MyDrive/Inception_Features/C3D_Features_final.npy\",C3D_Feature)"
      ],
      "execution_count": null,
      "outputs": []
    },
    {
      "cell_type": "code",
      "metadata": {
        "colab": {
          "base_uri": "https://localhost:8080/"
        },
        "id": "w66QoEZNBp-y",
        "outputId": "6793c0c3-a1e6-4786-9486-c17d0468c942"
      },
      "source": [
        "#Load npy file \n",
        "C3D_Feature = []\n",
        "C3D_Feature = np.load(\"/content/drive/MyDrive/Inception_Features/C3D_Features_final.npy\")\n",
        "len(C3D_Feature)"
      ],
      "execution_count": 4,
      "outputs": [
        {
          "output_type": "execute_result",
          "data": {
            "text/plain": [
              "6000"
            ]
          },
          "metadata": {
            "tags": []
          },
          "execution_count": 4
        }
      ]
    },
    {
      "cell_type": "markdown",
      "metadata": {
        "id": "qsVwJgPBB79k"
      },
      "source": [
        "## ***Implementing Linear Regression with C3D features***"
      ]
    },
    {
      "cell_type": "code",
      "metadata": {
        "colab": {
          "base_uri": "https://localhost:8080/"
        },
        "id": "I0v15hgMeO2W",
        "outputId": "bebbcb47-dc73-4a4e-e344-a01a79fe8baf"
      },
      "source": [
        "X = C3D_Feature\n",
        "Y_ShortTerm = Ground_Truth_Dev[['short-term_memorability']].values\n",
        "Y_LongTerm = Ground_Truth_Dev[['long-term_memorability']].values\n",
        "\n",
        "# Splitting the dataset into the Training set and Test set\n",
        "X_Short_train_C3D,X_Short_test_C3D,Y_Short_train_C3D,Y_Short_test_C3D = train_test_split(X,Y_ShortTerm,test_size=0.2,random_state=42)\n",
        "X_Long_train_C3D,X_Long_test_C3D,Y_Long_train_C3D,Y_Long_test_C3D = train_test_split(X,Y_LongTerm,test_size=0.2,random_state=42)\n",
        "\n",
        "#Fit dataset to Linear Model\n",
        "LMregressor = LinearRegression()\n",
        "LMregressor.fit(X_Short_train_C3D, Y_Short_train_C3D)\n",
        "LMregressor.fit(X_Long_train_C3D, Y_Long_train_C3D)"
      ],
      "execution_count": null,
      "outputs": [
        {
          "output_type": "execute_result",
          "data": {
            "text/plain": [
              "LinearRegression(copy_X=True, fit_intercept=True, n_jobs=None, normalize=False)"
            ]
          },
          "metadata": {
            "tags": []
          },
          "execution_count": 9
        }
      ]
    },
    {
      "cell_type": "code",
      "metadata": {
        "colab": {
          "base_uri": "https://localhost:8080/"
        },
        "id": "awGk3gc8eqgz",
        "outputId": "05299b3f-7667-4f4c-9d4e-235e7531aa50"
      },
      "source": [
        "Prediction_ST_Linear = LMregressor.predict(X_Short_test_C3D)\n",
        "Prediction_LT_Linear = LMregressor.predict(X_Long_test_C3D)\n",
        "\n",
        "#Calculating Spearman's coefficient using prediction and test data\n",
        "Spearman_Ranking(Prediction_ST_Linear, Y_Short_test_C3D)\n",
        "Spearman_Ranking(Prediction_LT_Linear, Y_Long_test_C3D)"
      ],
      "execution_count": null,
      "outputs": [
        {
          "output_type": "stream",
          "text": [
            "The Spearman's correlation coefficient is: 0.015\n",
            "The Spearman's correlation coefficient is: -0.008\n"
          ],
          "name": "stdout"
        }
      ]
    },
    {
      "cell_type": "markdown",
      "metadata": {
        "id": "PaRTSY5eHjbX"
      },
      "source": [
        "## **Implementing Decision Tree Regression with C3D**"
      ]
    },
    {
      "cell_type": "code",
      "metadata": {
        "colab": {
          "base_uri": "https://localhost:8080/"
        },
        "id": "oZB5Uzy2IqBn",
        "outputId": "029c2045-6301-4a9e-aaf9-71fa1a6510aa"
      },
      "source": [
        "X = C3D_Feature\n",
        "Y_ShortTerm = Ground_Truth_Dev[['short-term_memorability']].values\n",
        "Y_LongTerm = Ground_Truth_Dev[['long-term_memorability']].values\n",
        "\n",
        "# Splitting the dataset into the Training set and Test set\n",
        "X_Short_train_C3D,X_Short_test_C3D,Y_Short_train_C3D,Y_Short_test_C3D = train_test_split(X,Y_ShortTerm,test_size=0.2,random_state=42)\n",
        "X_Long_train_C3D,X_Long_test_C3D,Y_Long_train_C3D,Y_Long_test_C3D = train_test_split(X,Y_LongTerm,test_size=0.2,random_state=42)\n",
        "\n",
        "#Fit dataset to Decision tree Model\n",
        "DTregressor_ST = DecisionTreeRegressor()\n",
        "DTregressor_ST.fit(X_Short_train_C3D, Y_Short_train_C3D)\n",
        "\n",
        "DTregressor_LT = DecisionTreeRegressor()\n",
        "DTregressor_LT.fit(X_Long_train_C3D, Y_Long_train_C3D)"
      ],
      "execution_count": null,
      "outputs": [
        {
          "output_type": "execute_result",
          "data": {
            "text/plain": [
              "DecisionTreeRegressor(ccp_alpha=0.0, criterion='mse', max_depth=None,\n",
              "                      max_features=None, max_leaf_nodes=None,\n",
              "                      min_impurity_decrease=0.0, min_impurity_split=None,\n",
              "                      min_samples_leaf=1, min_samples_split=2,\n",
              "                      min_weight_fraction_leaf=0.0, presort='deprecated',\n",
              "                      random_state=None, splitter='best')"
            ]
          },
          "metadata": {
            "tags": []
          },
          "execution_count": 11
        }
      ]
    },
    {
      "cell_type": "code",
      "metadata": {
        "colab": {
          "base_uri": "https://localhost:8080/"
        },
        "id": "gcMTkvExI-KQ",
        "outputId": "ef736661-f875-4792-cb62-e2569ffc4870"
      },
      "source": [
        "Prediction_ST_DT = DTregressor_ST.predict(X_Short_test_C3D)\n",
        "Spearman_Ranking(Prediction_ST_DT, Y_Short_test_C3D)\n",
        "\n",
        "#Calculating Spearman's cofficient using prediction and test data\n",
        "Prediction_LT_DT = DTregressor_LT.predict(X_Long_test_C3D)\n",
        "Spearman_Ranking(Prediction_LT_DT, Y_Long_test_C3D)"
      ],
      "execution_count": null,
      "outputs": [
        {
          "output_type": "stream",
          "text": [
            "The Spearman's correlation coefficient is: 0.030\n",
            "The Spearman's correlation coefficient is: 0.027\n"
          ],
          "name": "stdout"
        }
      ]
    },
    {
      "cell_type": "markdown",
      "metadata": {
        "id": "9Ttyf8Vqonv9"
      },
      "source": [
        "## **Implementing Random Forest regressor with C3D feature**"
      ]
    },
    {
      "cell_type": "code",
      "metadata": {
        "colab": {
          "base_uri": "https://localhost:8080/"
        },
        "id": "V6LEXHuJonBF",
        "outputId": "20cf2a56-dc5b-4472-aef5-b6183eaeeae2"
      },
      "source": [
        "X = C3D_Feature\n",
        "Y_ShortTerm = Ground_Truth_Dev[['short-term_memorability']].values\n",
        "Y_LongTerm = Ground_Truth_Dev[['long-term_memorability']].values\n",
        "\n",
        "# Splitting the dataset into the Training set and Test set\n",
        "X_Short_train_RF,X_Short_test_RF,Y_Short_train_RF,Y_Short_test_RF = train_test_split(X,Y_ShortTerm,test_size=0.2,random_state=42)\n",
        "X_Long_train_RF,X_Long_test_RF,Y_Long_train_RF,Y_Long_test_RF = train_test_split(X,Y_LongTerm,test_size=0.2,random_state=42)\n",
        "\n",
        "#Fit dataset with Random forest\n",
        "RFregressor_ST = RandomForestRegressor()\n",
        "RFregressor_ST.fit(X_Short_train_RF, Y_Short_train_RF)\n",
        "\n",
        "RFregressor_LT = RandomForestRegressor()\n",
        "RFregressor_LT.fit(X_Long_train_RF, Y_Long_train_RF)"
      ],
      "execution_count": null,
      "outputs": [
        {
          "output_type": "stream",
          "text": [
            "/usr/local/lib/python3.7/dist-packages/ipykernel_launcher.py:11: DataConversionWarning: A column-vector y was passed when a 1d array was expected. Please change the shape of y to (n_samples,), for example using ravel().\n",
            "  # This is added back by InteractiveShellApp.init_path()\n",
            "/usr/local/lib/python3.7/dist-packages/ipykernel_launcher.py:14: DataConversionWarning: A column-vector y was passed when a 1d array was expected. Please change the shape of y to (n_samples,), for example using ravel().\n",
            "  \n"
          ],
          "name": "stderr"
        },
        {
          "output_type": "execute_result",
          "data": {
            "text/plain": [
              "RandomForestRegressor(bootstrap=True, ccp_alpha=0.0, criterion='mse',\n",
              "                      max_depth=None, max_features='auto', max_leaf_nodes=None,\n",
              "                      max_samples=None, min_impurity_decrease=0.0,\n",
              "                      min_impurity_split=None, min_samples_leaf=1,\n",
              "                      min_samples_split=2, min_weight_fraction_leaf=0.0,\n",
              "                      n_estimators=100, n_jobs=None, oob_score=False,\n",
              "                      random_state=None, verbose=0, warm_start=False)"
            ]
          },
          "metadata": {
            "tags": []
          },
          "execution_count": 15
        }
      ]
    },
    {
      "cell_type": "code",
      "metadata": {
        "colab": {
          "base_uri": "https://localhost:8080/"
        },
        "id": "I4Wmx0MktJxl",
        "outputId": "2af66b1a-fced-4c94-d529-75bd1460cb1b"
      },
      "source": [
        "Prediction_ST_RF = RFregressor_ST.predict(X_Short_test_RF)\n",
        "Spearman_Ranking(Prediction_ST_RF, Y_Short_test_RF)\n",
        "\n",
        "#Calculating Spearman's cofficient using prediction and test data\n",
        "Prediction_LT_RF = RFregressor_LT.predict(X_Long_test_RF)\n",
        "Spearman_Ranking(Prediction_LT_RF, Y_Long_test_RF)"
      ],
      "execution_count": null,
      "outputs": [
        {
          "output_type": "stream",
          "text": [
            "The Spearman's correlation coefficient is: 0.027\n",
            "The Spearman's correlation coefficient is: 0.039\n"
          ],
          "name": "stdout"
        }
      ]
    },
    {
      "cell_type": "markdown",
      "metadata": {
        "id": "B6Gsvnj7Ldpz"
      },
      "source": [
        "# **Fetching InceptionV3 Features**"
      ]
    },
    {
      "cell_type": "code",
      "metadata": {
        "id": "n_pOZjSDLjeB"
      },
      "source": [
        "#Method for extracting InceptionV3 features from files\n",
        "def Inception_Fetch(Inception_File):\n",
        "    with open(Inception_File) as f:\n",
        "        for line in f:\n",
        "            pairs=line.split()\n",
        "            Temp_Inception = { int(p.split(':')[0]) : float(p.split(':')[1]) for p in pairs}    \n",
        "    Inception = np.zeros(6075)\n",
        "    for idx in Temp_Inception.keys():\n",
        "        Inception[idx-1] = Temp_Inception[idx]            \n",
        "    return Inception"
      ],
      "execution_count": 16,
      "outputs": []
    },
    {
      "cell_type": "code",
      "metadata": {
        "id": "nEygGzYQMNwH",
        "colab": {
          "base_uri": "https://localhost:8080/"
        },
        "outputId": "97743b3f-eaab-447b-8861-f0ccff238a4f"
      },
      "source": [
        "#DevSet Path\n",
        "Inception_Path = '/content/drive/MyDrive/CA684_Assignment/Dev-set/InceptionV3'\n",
        "\n",
        "#Extracting  Inception Features for Dev Set\n",
        "Inception_Dataframe_Final = pd.DataFrame(columns = ['video', 'features'])\n",
        "Inception_Dataframe_0 = pd.DataFrame(columns = ['video', 'features'])\n",
        "Inception_Dataframe_56 = pd.DataFrame(columns = ['video', 'features'])\n",
        "Inception_Dataframe_112 = pd.DataFrame(columns = ['video', 'features'])\n",
        "Incep_File_0 = []\n",
        "Incep_File_56 = []\n",
        "Incep_File_112 = []\n",
        "Inception_Files = os.listdir(Inception_Path)\n",
        "for Incep_File in tqdm(Inception_Files):\n",
        "    if Incep_File.endswith(\".txt\"):\n",
        "        Final_Path = os.path.join(Inception_Path, Incep_File)\n",
        "        array = Inception_Fetch(Final_Path)\n",
        "        #Frame 56 for InceptionV3\n",
        "        if \"-56\" in Incep_File:\n",
        "          Incep_File.replace('-56','')\n",
        "          Incep_File_56= Incep_File.replace(\".txt\",\".webm\")\n",
        "          Inception_Dataframe_56 = Inception_Dataframe_56.append({'video': Incep_File_56, 'features': array}, ignore_index=True)\n",
        "        elif \"-0\" in Incep_File:\n",
        "          Incep_File.replace('-0','')\n",
        "          Incep_File_0= Incep_File.replace(\".txt\",\".webm\")\n",
        "          Inception_Dataframe_0 = Inception_Dataframe_0.append({'video': Incep_File_0, 'features': array}, ignore_index=True)\n",
        "        elif \"-112\" in Incep_File:\n",
        "          Incep_File.replace('-112','')\n",
        "          Incep_File_112= Incep_File.replace(\".txt\",\".webm\")\n",
        "          Inception_Dataframe_112 = Inception_Dataframe_112.append({'video': Incep_File_112, 'features': array}, ignore_index=True)\n",
        "    else:\n",
        "        break\n",
        "\n",
        "Incept_Features = Inception_Dataframe_112['features'].tolist()\n",
        "Count = 0\n",
        "for item in range(6000):\n",
        "    Incept_Features[Count] = np.append(Incept_Features[Count],Inception_Dataframe_0['features'][Count],axis=0)\n",
        "    Incept_Features[Count] = np.append(Incept_Features[Count],Inception_Dataframe_56['features'][Count],axis=0)\n",
        "    Count = Count+1\n"
      ],
      "execution_count": null,
      "outputs": [
        {
          "output_type": "stream",
          "text": [
            "100%|██████████| 18000/18000 [1:13:04<00:00,  4.11it/s]\n"
          ],
          "name": "stderr"
        }
      ]
    },
    {
      "cell_type": "code",
      "metadata": {
        "id": "Q8lzMhY3Ne6p"
      },
      "source": [
        "#save inception features in npy file for future reference\n",
        "np.save(\"/content/drive/MyDrive/Inception_Features/Inceptionv3_features_final_rasika.npy\",Incept_Features)"
      ],
      "execution_count": null,
      "outputs": []
    },
    {
      "cell_type": "code",
      "metadata": {
        "id": "iO-3PbjcNkE9",
        "colab": {
          "base_uri": "https://localhost:8080/"
        },
        "outputId": "9b43bbca-99e0-499b-d5aa-4cbfd75f3595"
      },
      "source": [
        "#load npy file\n",
        "Incept_Features = np.load(\"/content/drive/MyDrive/Inception_Features/Inceptionv3_features_final.npy\")\n",
        "len(Incept_Features)"
      ],
      "execution_count": 116,
      "outputs": [
        {
          "output_type": "execute_result",
          "data": {
            "text/plain": [
              "6000"
            ]
          },
          "metadata": {
            "tags": []
          },
          "execution_count": 116
        }
      ]
    },
    {
      "cell_type": "markdown",
      "metadata": {
        "id": "zoJPodGZOiru"
      },
      "source": [
        "## **Implementing Linear Regression with InceptionV3 Features**"
      ]
    },
    {
      "cell_type": "code",
      "metadata": {
        "colab": {
          "base_uri": "https://localhost:8080/"
        },
        "id": "aR4Doct1gM8f",
        "outputId": "f964f631-e5aa-4274-ff65-e172c7626f63"
      },
      "source": [
        "X = Incept_Features\n",
        "Y_ShortTerm = Ground_Truth_Dev[['short-term_memorability']].values\n",
        "Y_LongTerm = Ground_Truth_Dev[['long-term_memorability']].values\n",
        "\n",
        "# Splitting the dataset into the Training set and Test set\n",
        "X_Short_train_I,X_Short_test_I,Y_Short_train_I,Y_Short_test_I = train_test_split(X,Y_ShortTerm,test_size=0.2,random_state=40)\n",
        "X_Long_train_I,X_Long_test_I,Y_Long_train_I,Y_Long_test_I = train_test_split(X,Y_LongTerm,test_size=0.2,random_state=42)\n",
        "\n",
        "#Fit dataset with Linear model \n",
        "LMregressor = LinearRegression()\n",
        "LMregressor.fit(X_Short_train_I, Y_Short_train_I)\n",
        "LMregressor.fit(X_Long_train_I, Y_Long_train_I)"
      ],
      "execution_count": null,
      "outputs": [
        {
          "output_type": "execute_result",
          "data": {
            "text/plain": [
              "LinearRegression(copy_X=True, fit_intercept=True, n_jobs=None, normalize=False)"
            ]
          },
          "metadata": {
            "tags": []
          },
          "execution_count": 19
        }
      ]
    },
    {
      "cell_type": "code",
      "metadata": {
        "colab": {
          "base_uri": "https://localhost:8080/"
        },
        "id": "VranucpahIHL",
        "outputId": "6c8d08a5-5bea-47ec-96b5-503be3e566f9"
      },
      "source": [
        "Prediction_Inception_ST_I = LMregressor.predict(X_Short_test_I)\n",
        "Prediction_Inception_LT_I = LMregressor.predict(X_Long_test_I)\n",
        "\n",
        "#Calculating Spearman's coefficient using prediction and test data\n",
        "Spearman_Ranking(Prediction_Inception_ST_I, Y_Short_test_I)\n",
        "Spearman_Ranking(Prediction_Inception_LT_I, Y_Long_test_I)"
      ],
      "execution_count": null,
      "outputs": [
        {
          "output_type": "stream",
          "text": [
            "The Spearman's correlation coefficient is: 0.011\n",
            "The Spearman's correlation coefficient is: 0.016\n"
          ],
          "name": "stdout"
        }
      ]
    },
    {
      "cell_type": "markdown",
      "metadata": {
        "id": "KVrZjtANO32R"
      },
      "source": [
        "## **Implementing Decision Tree Regression with InceptionV3 Features**"
      ]
    },
    {
      "cell_type": "code",
      "metadata": {
        "colab": {
          "base_uri": "https://localhost:8080/"
        },
        "id": "fK2-_m4Hfv6a",
        "outputId": "87e9b33d-8c17-4abf-d33c-2178135f91bf"
      },
      "source": [
        "X = Incept_Features\n",
        "Y_ShortTerm = Ground_Truth_Dev[['short-term_memorability']].values\n",
        "Y_LongTerm = Ground_Truth_Dev[['long-term_memorability']].values\n",
        "\n",
        "# Splitting the dataset into the Training set and Test set\n",
        "X_Short_train,X_Short_test,Y_Short_train,Y_Short_test = train_test_split(X,Y_ShortTerm,test_size=0.2,random_state=40)\n",
        "X_Long_train,X_Long_test,Y_Long_train,Y_Long_test = train_test_split(X,Y_LongTerm,test_size=0.2,random_state=42)\n",
        "\n",
        "#fit dataset with decision tree model\n",
        "DTregressor_ST = DecisionTreeRegressor()\n",
        "DTregressor_ST.fit(X_Short_train, Y_Short_train)\n",
        "\n",
        "DTregressor_LT = DecisionTreeRegressor()\n",
        "DTregressor_LT.fit(X_Long_train, Y_Long_train)"
      ],
      "execution_count": null,
      "outputs": [
        {
          "output_type": "execute_result",
          "data": {
            "text/plain": [
              "DecisionTreeRegressor(ccp_alpha=0.0, criterion='mse', max_depth=None,\n",
              "                      max_features=None, max_leaf_nodes=None,\n",
              "                      min_impurity_decrease=0.0, min_impurity_split=None,\n",
              "                      min_samples_leaf=1, min_samples_split=2,\n",
              "                      min_weight_fraction_leaf=0.0, presort='deprecated',\n",
              "                      random_state=None, splitter='best')"
            ]
          },
          "metadata": {
            "tags": []
          },
          "execution_count": 40
        }
      ]
    },
    {
      "cell_type": "code",
      "metadata": {
        "colab": {
          "base_uri": "https://localhost:8080/"
        },
        "id": "T5S4oXbPgDqh",
        "outputId": "441008e6-3581-4dfe-ff9c-75d98db05e05"
      },
      "source": [
        "#Calculating Spearman's coefficient\n",
        "y_pred = DTregressor_ST.predict(X_Short_test)\n",
        "Spearman_Ranking(y_pred, Y_Short_test)\n",
        "\n",
        "LT_pred = DTregressor_LT.predict(X_Long_test)\n",
        "Spearman_Ranking(LT_pred, Y_Long_test)"
      ],
      "execution_count": null,
      "outputs": [
        {
          "output_type": "stream",
          "text": [
            "The Spearman's correlation coefficient is: 0.001\n",
            "The Spearman's correlation coefficient is: 0.030\n"
          ],
          "name": "stdout"
        }
      ]
    },
    {
      "cell_type": "markdown",
      "metadata": {
        "id": "JEQAYi1-vJ_L"
      },
      "source": [
        "## **Implementing Random Forest with InceptionV3**"
      ]
    },
    {
      "cell_type": "code",
      "metadata": {
        "colab": {
          "base_uri": "https://localhost:8080/"
        },
        "id": "zxzgtsrOvJnQ",
        "outputId": "d966d0ff-15c0-4ca5-be78-a13b140f182c"
      },
      "source": [
        "X = Incept_Features\n",
        "Y_ShortTerm = Ground_Truth_Dev[['short-term_memorability']].values\n",
        "Y_LongTerm = Ground_Truth_Dev[['long-term_memorability']].values\n",
        "\n",
        "# Splitting the dataset into the Training set and Test set\n",
        "X_Short_train_RF,X_Short_test_RF,Y_Short_train_RF,Y_Short_test_RF = train_test_split(X,Y_ShortTerm,test_size=0.2,random_state=40)\n",
        "X_Long_train_RF,X_Long_test_RF,Y_Long_train_RF,Y_Long_test_RF = train_test_split(X,Y_LongTerm,test_size=0.2,random_state=42)\n",
        "\n",
        "#Fit dataset with Random forest\n",
        "RFregressor_ST = RandomForestRegressor()\n",
        "RFregressor_ST.fit(X_Short_train_RF, Y_Short_train_RF)\n",
        "\n",
        "RFregressor_LT = RandomForestRegressor()\n",
        "RFregressor_LT.fit(X_Long_train_RF, Y_Long_train_RF)"
      ],
      "execution_count": null,
      "outputs": [
        {
          "output_type": "stream",
          "text": [
            "/usr/local/lib/python3.7/dist-packages/ipykernel_launcher.py:11: DataConversionWarning: A column-vector y was passed when a 1d array was expected. Please change the shape of y to (n_samples,), for example using ravel().\n",
            "  # This is added back by InteractiveShellApp.init_path()\n",
            "/usr/local/lib/python3.7/dist-packages/ipykernel_launcher.py:14: DataConversionWarning: A column-vector y was passed when a 1d array was expected. Please change the shape of y to (n_samples,), for example using ravel().\n",
            "  \n"
          ],
          "name": "stderr"
        },
        {
          "output_type": "execute_result",
          "data": {
            "text/plain": [
              "RandomForestRegressor(bootstrap=True, ccp_alpha=0.0, criterion='mse',\n",
              "                      max_depth=None, max_features='auto', max_leaf_nodes=None,\n",
              "                      max_samples=None, min_impurity_decrease=0.0,\n",
              "                      min_impurity_split=None, min_samples_leaf=1,\n",
              "                      min_samples_split=2, min_weight_fraction_leaf=0.0,\n",
              "                      n_estimators=100, n_jobs=None, oob_score=False,\n",
              "                      random_state=None, verbose=0, warm_start=False)"
            ]
          },
          "metadata": {
            "tags": []
          },
          "execution_count": 43
        }
      ]
    },
    {
      "cell_type": "code",
      "metadata": {
        "colab": {
          "base_uri": "https://localhost:8080/"
        },
        "id": "S4ZXmd0Evg6I",
        "outputId": "c96d2d2f-f622-48ad-8115-8209808513fe"
      },
      "source": [
        "Prediction_ST_RF = RFregressor_ST.predict(X_Short_test_RF)\n",
        "Spearman_Ranking(Prediction_ST_RF, Y_Short_test_RF)\n",
        "\n",
        "#Calculating Spearman's cofficient using prediction and test data\n",
        "Prediction_LT_RF = RFregressor_LT.predict(X_Long_test_RF)\n",
        "Spearman_Ranking(Prediction_LT_RF, Y_Long_test_RF)"
      ],
      "execution_count": null,
      "outputs": [
        {
          "output_type": "stream",
          "text": [
            "The Spearman's correlation coefficient is: -0.069\n",
            "The Spearman's correlation coefficient is: 0.008\n"
          ],
          "name": "stdout"
        }
      ]
    },
    {
      "cell_type": "markdown",
      "metadata": {
        "id": "j9J3hVD1Pj0x"
      },
      "source": [
        "# **Combining C3D and InceptionV3 Model**"
      ]
    },
    {
      "cell_type": "code",
      "metadata": {
        "id": "5tyIRbqQPofL"
      },
      "source": [
        "#Combining c3d and InceptionV3\n",
        "C3D_Feature= C3D_Feature[:,0].reshape(-1, 1)\n",
        "Incept_Features= Incept_Features[:,0].reshape(-1, 1)\n",
        "Combine_C3D_InceptionV3 = C3D_Feature.tolist()\n",
        "Count = 0\n",
        "for item in range(6000):\n",
        "    Combine_C3D_InceptionV3[Count] = np.append(Combine_C3D_InceptionV3[Count],Incept_Features[Count],axis=0)\n",
        "    Count = Count+1"
      ],
      "execution_count": 135,
      "outputs": []
    },
    {
      "cell_type": "markdown",
      "metadata": {
        "id": "OUFknhs1Qt10"
      },
      "source": [
        "## **Implementing Linear Regression with C3D and InceptionV3 Model**\n",
        "\n"
      ]
    },
    {
      "cell_type": "code",
      "metadata": {
        "id": "ieoi7W9IQ5H6"
      },
      "source": [
        "X = Combine_C3D_InceptionV3\n",
        "Y_ShortTerm = Ground_Truth_Dev[['short-term_memorability']].values\n",
        "Y_LongTerm = Ground_Truth_Dev[['long-term_memorability']].values\n",
        "\n",
        "# Splitting the dataset into the Training set and Test set\n",
        "X_Short_train,X_Short_test,Y_Short_train,Y_Short_test = train_test_split(X,Y_ShortTerm,test_size=0.2,random_state=42)\n",
        "X_Long_train,X_Long_test,Y_Long_train,Y_Long_test = train_test_split(X,Y_LongTerm,test_size=0.2,random_state=42)"
      ],
      "execution_count": 140,
      "outputs": []
    },
    {
      "cell_type": "code",
      "metadata": {
        "colab": {
          "base_uri": "https://localhost:8080/"
        },
        "id": "pgB2yMJVQ5H7",
        "outputId": "8a39c9f0-7cb4-49a6-880c-06a70ee2aac6"
      },
      "source": [
        "#fit dataset to linear model\n",
        "LMregressor = LinearRegression()\n",
        "LMregressor.fit(X_Short_train, Y_Short_train)\n",
        "LMregressor.fit(X_Long_train, Y_Long_train)"
      ],
      "execution_count": 146,
      "outputs": [
        {
          "output_type": "execute_result",
          "data": {
            "text/plain": [
              "LinearRegression(copy_X=True, fit_intercept=True, n_jobs=None, normalize=False)"
            ]
          },
          "metadata": {
            "tags": []
          },
          "execution_count": 146
        }
      ]
    },
    {
      "cell_type": "code",
      "metadata": {
        "colab": {
          "base_uri": "https://localhost:8080/"
        },
        "id": "t8tS2ms5Q5H8",
        "outputId": "5ecca5a6-dbeb-49d9-a1b8-3347baa6b498"
      },
      "source": [
        "Prediction_CI_ST = LMregressor.predict(X_Short_test)\n",
        "Prediction_CI_LT = LMregressor.predict(X_Long_test)\n",
        "\n",
        "Spearman_Ranking(Prediction_CI_ST, Y_Short_test)\n",
        "Spearman_Ranking(Prediction_CI_LT, Y_Long_test)"
      ],
      "execution_count": 147,
      "outputs": [
        {
          "output_type": "stream",
          "text": [
            "The Spearman's correlation coefficient is: -0.012\n",
            "The Spearman's correlation coefficient is: 0.004\n"
          ],
          "name": "stdout"
        }
      ]
    },
    {
      "cell_type": "markdown",
      "metadata": {
        "id": "0SM7nZPSQ5IB"
      },
      "source": [
        "## **C3D and InceptionV3 Model with Decision Tree**"
      ]
    },
    {
      "cell_type": "code",
      "metadata": {
        "colab": {
          "base_uri": "https://localhost:8080/"
        },
        "id": "fHm_ZoheQ5IC",
        "outputId": "a6dd477d-f08a-4d6b-b849-4a44749ee273"
      },
      "source": [
        "X = Combine_C3D_InceptionV3\n",
        "Y_ShortTerm = Ground_Truth_Dev[['short-term_memorability']].values\n",
        "Y_LongTerm = Ground_Truth_Dev[['long-term_memorability']].values\n",
        "\n",
        "# Splitting the dataset into the Training set and Test set\n",
        "X_Short_train,X_Short_test,Y_Short_train,Y_Short_test = train_test_split(X,Y_ShortTerm,test_size=0.2,random_state=40)\n",
        "X_Long_train,X_Long_test,Y_Long_train,Y_Long_test = train_test_split(X,Y_LongTerm,test_size=0.2,random_state=42)\n",
        "\n",
        "from sklearn.tree import DecisionTreeRegressor\n",
        "DTregressor_ST = DecisionTreeRegressor()\n",
        "DTregressor_ST.fit(X_Short_train, Y_Short_train)\n",
        "\n",
        "DTregressor_LT = DecisionTreeRegressor()\n",
        "DTregressor_LT.fit(X_Long_train, Y_Long_train)"
      ],
      "execution_count": null,
      "outputs": [
        {
          "output_type": "execute_result",
          "data": {
            "text/plain": [
              "DecisionTreeRegressor(ccp_alpha=0.0, criterion='mse', max_depth=None,\n",
              "                      max_features=None, max_leaf_nodes=None,\n",
              "                      min_impurity_decrease=0.0, min_impurity_split=None,\n",
              "                      min_samples_leaf=1, min_samples_split=2,\n",
              "                      min_weight_fraction_leaf=0.0, presort='deprecated',\n",
              "                      random_state=None, splitter='best')"
            ]
          },
          "metadata": {
            "tags": []
          },
          "execution_count": 15
        }
      ]
    },
    {
      "cell_type": "code",
      "metadata": {
        "colab": {
          "base_uri": "https://localhost:8080/"
        },
        "id": "cY_-uZNgjzOV",
        "outputId": "c01098fa-5d88-4969-bcfb-4545836878c8"
      },
      "source": [
        "Prediction_CI_ST = DTregressor_ST.predict(X_Short_test)\n",
        "Spearman_Ranking(Prediction_CI_ST, Y_Short_test)\n",
        "\n",
        "Prediction_CI_LT = DTregressor_LT.predict(X_Long_test)\n",
        "Spearman_Ranking(Prediction_CI_LT, Y_Long_test)"
      ],
      "execution_count": null,
      "outputs": [
        {
          "output_type": "stream",
          "text": [
            "The Spearman's correlation coefficient is: 0.052\n",
            "The Spearman's correlation coefficient is: 0.042\n"
          ],
          "name": "stdout"
        }
      ]
    },
    {
      "cell_type": "markdown",
      "metadata": {
        "id": "4Berg-FdxEap"
      },
      "source": [
        "##  **C3D and InceptionV3 with Random forest** "
      ]
    },
    {
      "cell_type": "code",
      "metadata": {
        "colab": {
          "base_uri": "https://localhost:8080/"
        },
        "id": "tY_XNCcuxCwV",
        "outputId": "72396051-62fc-4f45-c8e9-a879b1067488"
      },
      "source": [
        "X = Combine_C3D_InceptionV3\n",
        "Y_ShortTerm = Ground_Truth_Dev[['short-term_memorability']].values\n",
        "Y_LongTerm = Ground_Truth_Dev[['long-term_memorability']].values\n",
        "\n",
        "# Splitting the dataset into the Training set and Test set\n",
        "X_Short_train_RF,X_Short_test_RF,Y_Short_train_RF,Y_Short_test_RF = train_test_split(X,Y_ShortTerm,test_size=0.2,random_state=42)\n",
        "X_Long_train_RF,X_Long_test_RF,Y_Long_train_RF,Y_Long_test_RF = train_test_split(X,Y_LongTerm,test_size=0.2,random_state=42)\n",
        "\n",
        "#Fit dataset with Random forest\n",
        "RFregressor_ST = RandomForestRegressor()\n",
        "RFregressor_ST.fit(X_Short_train_RF, Y_Short_train_RF)\n",
        "\n",
        "RFregressor_LT = RandomForestRegressor()\n",
        "RFregressor_LT.fit(X_Long_train_RF, Y_Long_train_RF)"
      ],
      "execution_count": null,
      "outputs": [
        {
          "output_type": "stream",
          "text": [
            "/usr/local/lib/python3.7/dist-packages/ipykernel_launcher.py:11: DataConversionWarning: A column-vector y was passed when a 1d array was expected. Please change the shape of y to (n_samples,), for example using ravel().\n",
            "  # This is added back by InteractiveShellApp.init_path()\n",
            "/usr/local/lib/python3.7/dist-packages/ipykernel_launcher.py:14: DataConversionWarning: A column-vector y was passed when a 1d array was expected. Please change the shape of y to (n_samples,), for example using ravel().\n",
            "  \n"
          ],
          "name": "stderr"
        },
        {
          "output_type": "execute_result",
          "data": {
            "text/plain": [
              "RandomForestRegressor(bootstrap=True, ccp_alpha=0.0, criterion='mse',\n",
              "                      max_depth=None, max_features='auto', max_leaf_nodes=None,\n",
              "                      max_samples=None, min_impurity_decrease=0.0,\n",
              "                      min_impurity_split=None, min_samples_leaf=1,\n",
              "                      min_samples_split=2, min_weight_fraction_leaf=0.0,\n",
              "                      n_estimators=100, n_jobs=None, oob_score=False,\n",
              "                      random_state=None, verbose=0, warm_start=False)"
            ]
          },
          "metadata": {
            "tags": []
          },
          "execution_count": 47
        }
      ]
    },
    {
      "cell_type": "code",
      "metadata": {
        "colab": {
          "base_uri": "https://localhost:8080/"
        },
        "id": "KW3-ludgys1j",
        "outputId": "17bd2bd9-6068-4a49-95a5-9889c73bf75f"
      },
      "source": [
        "Prediction_ST_RF = RFregressor_ST.predict(X_Short_test_RF)\n",
        "Spearman_Ranking(Prediction_ST_RF, Y_Short_test_RF)\n",
        "\n",
        "#Calculating Spearman's cofficient using prediction and test data\n",
        "Prediction_LT_RF = RFregressor_LT.predict(X_Long_test_RF)\n",
        "Spearman_Ranking(Prediction_LT_RF, Y_Long_test_RF)"
      ],
      "execution_count": null,
      "outputs": [
        {
          "output_type": "stream",
          "text": [
            "The Spearman's correlation coefficient is: -0.026\n",
            "The Spearman's correlation coefficient is: 0.025\n"
          ],
          "name": "stdout"
        }
      ]
    },
    {
      "cell_type": "markdown",
      "metadata": {
        "id": "b-UugNp2RUJI"
      },
      "source": [
        "# **Comparison of Models**"
      ]
    },
    {
      "cell_type": "markdown",
      "metadata": {
        "id": "l4p10qp-Zv8V"
      },
      "source": [
        "![image.png](data:image/png;base64,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)"
      ]
    },
    {
      "cell_type": "markdown",
      "metadata": {
        "id": "WvhtFaNhatTk"
      },
      "source": [
        "# Prediction of Test Results"
      ]
    },
    {
      "cell_type": "markdown",
      "metadata": {
        "id": "Os3WMOufa8Xm"
      },
      "source": [
        "## Importing Ground Truths"
      ]
    },
    {
      "cell_type": "code",
      "metadata": {
        "colab": {
          "base_uri": "https://localhost:8080/"
        },
        "id": "7-vIi36XAnUc",
        "outputId": "0ae4ad7b-9b66-4771-ca08-508890a4bc69"
      },
      "source": [
        "Ground_Truth_Test = pd.read_csv('/content/drive/MyDrive/CA684_Assignment/Test-set/Ground-truth_test/ground_truth_template.csv')\n",
        "print(f'Test-Dataset : {Ground_Truth_Test.shape}')"
      ],
      "execution_count": 7,
      "outputs": [
        {
          "output_type": "stream",
          "text": [
            "Test-Dataset : (2000, 5)\n"
          ],
          "name": "stdout"
        }
      ]
    },
    {
      "cell_type": "markdown",
      "metadata": {
        "id": "5mxGdbUUcTV-"
      },
      "source": [
        "## Extracting C3D and InceptionV3 Features"
      ]
    },
    {
      "cell_type": "code",
      "metadata": {
        "colab": {
          "base_uri": "https://localhost:8080/"
        },
        "id": "Gz1y2KUBcQR8",
        "outputId": "89016a22-e929-4dff-af7e-92e8aa4b3694"
      },
      "source": [
        "Test_C3D_Path = '/content/drive/MyDrive/CA684_Assignment/Test-set/C3D_test/'\n",
        "Test_C3D_Feature = []\n",
        "Test_C3D_Feature = C3D_Fetch(Test_C3D_Path)"
      ],
      "execution_count": 11,
      "outputs": [
        {
          "output_type": "stream",
          "text": [
            "100%|██████████| 2000/2000 [10:13<00:00,  3.26it/s]\n"
          ],
          "name": "stderr"
        }
      ]
    },
    {
      "cell_type": "code",
      "metadata": {
        "id": "4QT3Dg65RUB8"
      },
      "source": [
        "np.save(\"/content/drive/MyDrive/Test_Extracted_Features/C3D_features_test.npy\",Test_C3D_Feature)"
      ],
      "execution_count": 12,
      "outputs": []
    },
    {
      "cell_type": "code",
      "metadata": {
        "colab": {
          "base_uri": "https://localhost:8080/"
        },
        "id": "smFjgCFODMYH",
        "outputId": "0bb45b93-837e-4dea-f4a9-a5d3189e0de3"
      },
      "source": [
        "Test_C3D_Feature = np.load(\"/content/drive/MyDrive/Test_Extracted_Features/C3D_features_test.npy\")\n",
        "Test_C3D_Feature= Test_C3D_Feature[:,0].reshape(-1, 1)\n",
        "Test_C3D_Feature.shape"
      ],
      "execution_count": 121,
      "outputs": [
        {
          "output_type": "execute_result",
          "data": {
            "text/plain": [
              "(2000, 1)"
            ]
          },
          "metadata": {
            "tags": []
          },
          "execution_count": 121
        }
      ]
    },
    {
      "cell_type": "code",
      "metadata": {
        "colab": {
          "base_uri": "https://localhost:8080/"
        },
        "id": "G6A57lTRryUn",
        "outputId": "39ddf58f-554a-4de9-fb2b-8c01624f79a3"
      },
      "source": [
        "#DevSet Path\n",
        "Test_Inception_Path = \"/content/drive/MyDrive/CA684_Assignment/Test-set/Inception_test/\"\n",
        "\n",
        "#Extracting  Inception Features for Dev Set\n",
        "Inception_Dataframe_Final = pd.DataFrame(columns = ['video', 'features'])\n",
        "Inception_Dataframe_0 = pd.DataFrame(columns = ['video', 'features'])\n",
        "Inception_Dataframe_56 = pd.DataFrame(columns = ['video', 'features'])\n",
        "Inception_Dataframe_112 = pd.DataFrame(columns = ['video', 'features'])\n",
        "Incep_File_0 = []\n",
        "Incep_File_56 = []\n",
        "Incep_File_112 = []\n",
        "Inception_Files = os.listdir(Test_Inception_Path)\n",
        "for Incep_File in tqdm(Inception_Files):\n",
        "    if Incep_File.endswith(\".txt\"):\n",
        "        Final_Path = os.path.join(Test_Inception_Path, Incep_File)\n",
        "        array = Inception_Fetch(Final_Path)\n",
        "        #Frame 56 for InceptionV3\n",
        "        if \"-56\" in Incep_File:\n",
        "          Incep_File.replace('-56','')\n",
        "          Incep_File_56= Incep_File.replace(\".txt\",\".webm\")\n",
        "          Inception_Dataframe_56 = Inception_Dataframe_56.append({'video': Incep_File_56, 'features': array}, ignore_index=True)\n",
        "        elif \"-0\" in Incep_File:\n",
        "          Incep_File.replace('-0','')\n",
        "          Incep_File_0= Incep_File.replace(\".txt\",\".webm\")\n",
        "          Inception_Dataframe_0 = Inception_Dataframe_0.append({'video': Incep_File_0, 'features': array}, ignore_index=True)\n",
        "        elif \"-112\" in Incep_File:\n",
        "          Incep_File.replace('-112','')\n",
        "          Incep_File_112= Incep_File.replace(\".txt\",\".webm\")\n",
        "          Inception_Dataframe_112 = Inception_Dataframe_112.append({'video': Incep_File_112, 'features': array}, ignore_index=True)\n",
        "    else:\n",
        "        break\n",
        "\n",
        "Incept_Features_Test = Inception_Dataframe_112['features'].tolist()\n",
        "Count = 0\n",
        "for item in range(2000):\n",
        "    Incept_Features_Test[Count] = np.append(Incept_Features_Test[Count],Inception_Dataframe_0['features'][Count],axis=0)\n",
        "    Incept_Features_Test[Count] = np.append(Incept_Features_Test[Count],Inception_Dataframe_56['features'][Count],axis=0)\n",
        "    Count = Count+1\n"
      ],
      "execution_count": 22,
      "outputs": [
        {
          "output_type": "stream",
          "text": [
            "\n",
            "  0%|          | 0/6000 [00:00<?, ?it/s]\u001b[A\n",
            "  0%|          | 26/6000 [00:00<00:23, 257.49it/s]\u001b[A\n",
            "  1%|          | 49/6000 [00:00<00:23, 248.45it/s]\u001b[A\n",
            "  1%|▏         | 79/6000 [00:00<00:22, 261.10it/s]\u001b[A\n",
            "  2%|▏         | 108/6000 [00:00<00:22, 267.23it/s]\u001b[A\n",
            "  2%|▏         | 136/6000 [00:00<00:21, 269.92it/s]\u001b[A\n",
            "  3%|▎         | 164/6000 [00:00<00:21, 272.32it/s]\u001b[A\n",
            "  3%|▎         | 193/6000 [00:00<00:21, 275.93it/s]\u001b[A\n",
            "  4%|▎         | 219/6000 [00:00<00:21, 264.73it/s]\u001b[A\n",
            "  4%|▍         | 245/6000 [00:00<00:22, 258.20it/s]\u001b[A\n",
            "  5%|▍         | 274/6000 [00:01<00:21, 266.01it/s]\u001b[A\n",
            "  5%|▌         | 303/6000 [00:01<00:20, 271.67it/s]\u001b[A\n",
            "  6%|▌         | 332/6000 [00:01<00:20, 276.65it/s]\u001b[A\n",
            "  6%|▌         | 362/6000 [00:01<00:20, 281.19it/s]\u001b[A\n",
            "  7%|▋         | 391/6000 [00:01<00:19, 283.26it/s]\u001b[A\n",
            "  7%|▋         | 421/6000 [00:01<00:19, 286.51it/s]\u001b[A\n",
            "  8%|▊         | 450/6000 [00:01<00:19, 285.08it/s]\u001b[A\n",
            "  8%|▊         | 481/6000 [00:01<00:19, 290.07it/s]\u001b[A\n",
            "  8%|▊         | 510/6000 [00:01<00:19, 287.97it/s]\u001b[A\n",
            "  9%|▉         | 539/6000 [00:01<00:19, 284.98it/s]\u001b[A\n",
            "  9%|▉         | 568/6000 [00:02<00:19, 283.32it/s]\u001b[A\n",
            " 10%|▉         | 597/6000 [00:02<00:19, 280.91it/s]\u001b[A\n",
            " 10%|█         | 626/6000 [00:02<00:19, 276.80it/s]\u001b[A\n",
            " 11%|█         | 655/6000 [00:02<00:19, 278.72it/s]\u001b[A\n",
            " 11%|█▏        | 684/6000 [00:02<00:18, 279.84it/s]\u001b[A\n",
            " 12%|█▏        | 712/6000 [00:02<00:18, 278.90it/s]\u001b[A\n",
            " 12%|█▏        | 742/6000 [00:02<00:18, 282.43it/s]\u001b[A\n",
            " 13%|█▎        | 771/6000 [00:02<00:18, 281.66it/s]\u001b[A\n",
            " 13%|█▎        | 800/6000 [00:02<00:18, 274.72it/s]\u001b[A\n",
            " 14%|█▍        | 828/6000 [00:02<00:18, 275.37it/s]\u001b[A\n",
            " 14%|█▍        | 856/6000 [00:03<00:19, 268.73it/s]\u001b[A\n",
            " 15%|█▍        | 883/6000 [00:03<00:19, 264.80it/s]\u001b[A\n",
            " 15%|█▌        | 912/6000 [00:03<00:18, 270.93it/s]\u001b[A\n",
            " 16%|█▌        | 941/6000 [00:03<00:18, 275.27it/s]\u001b[A\n",
            " 16%|█▌        | 969/6000 [00:03<00:18, 276.35it/s]\u001b[A\n",
            " 17%|█▋        | 998/6000 [00:03<00:17, 278.66it/s]\u001b[A\n",
            " 17%|█▋        | 1027/6000 [00:03<00:17, 279.43it/s]\u001b[A\n",
            " 18%|█▊        | 1057/6000 [00:03<00:17, 283.97it/s]\u001b[A\n",
            " 18%|█▊        | 1086/6000 [00:03<00:17, 283.48it/s]\u001b[A\n",
            " 19%|█▊        | 1116/6000 [00:04<00:17, 285.92it/s]\u001b[A\n",
            " 19%|█▉        | 1145/6000 [00:04<00:17, 278.19it/s]\u001b[A\n",
            " 20%|█▉        | 1174/6000 [00:04<00:17, 280.16it/s]\u001b[A\n",
            " 20%|██        | 1203/6000 [00:04<00:17, 276.62it/s]\u001b[A\n",
            " 21%|██        | 1231/6000 [00:04<00:17, 276.85it/s]\u001b[A\n",
            " 21%|██        | 1259/6000 [00:04<00:17, 271.21it/s]\u001b[A\n",
            " 21%|██▏       | 1288/6000 [00:04<00:17, 274.72it/s]\u001b[A\n",
            " 22%|██▏       | 1316/6000 [00:04<00:17, 274.77it/s]\u001b[A\n",
            " 22%|██▏       | 1347/6000 [00:04<00:16, 282.72it/s]\u001b[A\n",
            " 23%|██▎       | 1376/6000 [00:04<00:16, 272.95it/s]\u001b[A\n",
            " 23%|██▎       | 1404/6000 [00:05<00:16, 270.65it/s]\u001b[A\n",
            " 24%|██▍       | 1432/6000 [00:05<00:16, 270.02it/s]\u001b[A\n",
            " 24%|██▍       | 1461/6000 [00:05<00:16, 273.89it/s]\u001b[A\n",
            " 25%|██▍       | 1490/6000 [00:05<00:16, 276.91it/s]\u001b[A\n",
            " 25%|██▌       | 1518/6000 [00:05<00:16, 273.69it/s]\u001b[A\n",
            " 26%|██▌       | 1548/6000 [00:05<00:15, 279.87it/s]\u001b[A\n",
            " 26%|██▋       | 1577/6000 [00:05<00:15, 279.06it/s]\u001b[A\n",
            " 27%|██▋       | 1605/6000 [00:05<00:15, 277.77it/s]\u001b[A\n",
            " 27%|██▋       | 1635/6000 [00:05<00:15, 283.85it/s]\u001b[A\n",
            " 28%|██▊       | 1664/6000 [00:05<00:15, 284.43it/s]\u001b[A\n",
            " 28%|██▊       | 1694/6000 [00:06<00:15, 286.61it/s]\u001b[A\n",
            " 29%|██▊       | 1723/6000 [00:06<00:15, 271.63it/s]\u001b[A\n",
            " 29%|██▉       | 1752/6000 [00:06<00:15, 274.60it/s]\u001b[A\n",
            " 30%|██▉       | 1781/6000 [00:06<00:15, 278.82it/s]\u001b[A\n",
            " 30%|███       | 1809/6000 [00:06<00:15, 277.13it/s]\u001b[A\n",
            " 31%|███       | 1837/6000 [00:06<00:15, 273.55it/s]\u001b[A\n",
            " 31%|███       | 1867/6000 [00:06<00:14, 279.92it/s]\u001b[A\n",
            " 32%|███▏      | 1896/6000 [00:06<00:14, 277.89it/s]\u001b[A\n",
            " 32%|███▏      | 1926/6000 [00:06<00:14, 282.90it/s]\u001b[A\n",
            " 33%|███▎      | 1955/6000 [00:07<00:14, 281.84it/s]\u001b[A\n",
            " 33%|███▎      | 1984/6000 [00:07<00:14, 281.29it/s]\u001b[A\n",
            " 34%|███▎      | 2013/6000 [00:07<00:14, 281.96it/s]\u001b[A\n",
            " 34%|███▍      | 2043/6000 [00:07<00:13, 285.68it/s]\u001b[A\n",
            " 35%|███▍      | 2072/6000 [00:07<00:13, 286.93it/s]\u001b[A\n",
            " 35%|███▌      | 2101/6000 [00:07<00:13, 284.43it/s]\u001b[A\n",
            " 36%|███▌      | 2130/6000 [00:07<00:13, 284.66it/s]\u001b[A\n",
            " 36%|███▌      | 2160/6000 [00:07<00:13, 287.02it/s]\u001b[A\n",
            " 36%|███▋      | 2189/6000 [00:07<00:13, 285.17it/s]\u001b[A\n",
            " 37%|███▋      | 2218/6000 [00:07<00:13, 276.21it/s]\u001b[A\n",
            " 37%|███▋      | 2246/6000 [00:08<00:13, 276.65it/s]\u001b[A\n",
            " 38%|███▊      | 2274/6000 [00:08<00:13, 273.92it/s]\u001b[A\n",
            " 38%|███▊      | 2302/6000 [00:08<00:13, 274.52it/s]\u001b[A\n",
            " 39%|███▉      | 2330/6000 [00:08<00:13, 273.43it/s]\u001b[A\n",
            " 39%|███▉      | 2358/6000 [00:08<00:13, 271.98it/s]\u001b[A\n",
            " 40%|███▉      | 2386/6000 [00:08<00:13, 273.09it/s]\u001b[A\n",
            " 40%|████      | 2415/6000 [00:08<00:12, 275.83it/s]\u001b[A\n",
            " 41%|████      | 2444/6000 [00:08<00:12, 279.47it/s]\u001b[A\n",
            " 41%|████      | 2474/6000 [00:08<00:12, 283.36it/s]\u001b[A\n",
            " 42%|████▏     | 2503/6000 [00:09<00:12, 279.54it/s]\u001b[A\n",
            " 42%|████▏     | 2532/6000 [00:09<00:12, 281.12it/s]\u001b[A\n",
            " 43%|████▎     | 2561/6000 [00:09<00:12, 281.55it/s]\u001b[A\n",
            " 43%|████▎     | 2590/6000 [00:09<00:12, 281.81it/s]\u001b[A\n",
            " 44%|████▎     | 2620/6000 [00:09<00:11, 283.27it/s]\u001b[A\n",
            " 44%|████▍     | 2649/6000 [00:09<00:11, 281.54it/s]\u001b[A\n",
            " 45%|████▍     | 2678/6000 [00:09<00:11, 281.09it/s]\u001b[A\n",
            " 45%|████▌     | 2707/6000 [00:09<00:11, 282.84it/s]\u001b[A\n",
            " 46%|████▌     | 2736/6000 [00:09<00:11, 282.56it/s]\u001b[A\n",
            " 46%|████▌     | 2765/6000 [00:09<00:11, 281.19it/s]\u001b[A\n",
            " 47%|████▋     | 2794/6000 [00:10<00:11, 273.20it/s]\u001b[A\n",
            " 47%|████▋     | 2822/6000 [00:10<00:11, 274.58it/s]\u001b[A\n",
            " 48%|████▊     | 2850/6000 [00:10<00:11, 263.88it/s]\u001b[A\n",
            " 48%|████▊     | 2880/6000 [00:10<00:11, 272.00it/s]\u001b[A\n",
            " 48%|████▊     | 2908/6000 [00:10<00:11, 274.31it/s]\u001b[A\n",
            " 49%|████▉     | 2938/6000 [00:10<00:10, 280.36it/s]\u001b[A\n",
            " 49%|████▉     | 2967/6000 [00:10<00:10, 279.56it/s]\u001b[A\n",
            " 50%|████▉     | 2996/6000 [00:10<00:10, 277.93it/s]\u001b[A\n",
            " 50%|█████     | 3024/6000 [00:10<00:10, 276.01it/s]\u001b[A\n",
            " 51%|█████     | 3052/6000 [00:10<00:11, 264.23it/s]\u001b[A\n",
            " 51%|█████▏    | 3080/6000 [00:11<00:10, 266.96it/s]\u001b[A\n",
            " 52%|█████▏    | 3108/6000 [00:11<00:10, 269.01it/s]\u001b[A\n",
            " 52%|█████▏    | 3135/6000 [00:11<00:10, 265.12it/s]\u001b[A\n",
            " 53%|█████▎    | 3163/6000 [00:11<00:10, 267.23it/s]\u001b[A\n",
            " 53%|█████▎    | 3190/6000 [00:11<00:11, 254.87it/s]\u001b[A\n",
            " 54%|█████▎    | 3216/6000 [00:11<00:10, 256.06it/s]\u001b[A\n",
            " 54%|█████▍    | 3244/6000 [00:11<00:10, 261.56it/s]\u001b[A\n",
            " 55%|█████▍    | 3274/6000 [00:11<00:10, 270.00it/s]\u001b[A\n",
            " 55%|█████▌    | 3302/6000 [00:11<00:10, 269.13it/s]\u001b[A\n",
            " 56%|█████▌    | 3330/6000 [00:12<00:09, 270.83it/s]\u001b[A\n",
            " 56%|█████▌    | 3358/6000 [00:12<00:09, 269.73it/s]\u001b[A\n",
            " 56%|█████▋    | 3386/6000 [00:12<00:09, 270.45it/s]\u001b[A\n",
            " 57%|█████▋    | 3414/6000 [00:12<00:09, 261.19it/s]\u001b[A\n",
            " 57%|█████▋    | 3442/6000 [00:12<00:09, 264.12it/s]\u001b[A\n",
            " 58%|█████▊    | 3469/6000 [00:12<00:09, 265.70it/s]\u001b[A\n",
            " 58%|█████▊    | 3498/6000 [00:12<00:09, 270.17it/s]\u001b[A\n",
            " 59%|█████▉    | 3526/6000 [00:12<00:09, 272.54it/s]\u001b[A\n",
            " 59%|█████▉    | 3554/6000 [00:12<00:08, 274.21it/s]\u001b[A\n",
            " 60%|█████▉    | 3583/6000 [00:12<00:08, 277.49it/s]\u001b[A\n",
            " 60%|██████    | 3611/6000 [00:13<00:08, 271.01it/s]\u001b[A\n",
            " 61%|██████    | 3641/6000 [00:13<00:08, 276.66it/s]\u001b[A\n",
            " 61%|██████    | 3669/6000 [00:13<00:08, 268.17it/s]\u001b[A\n",
            " 62%|██████▏   | 3697/6000 [00:13<00:08, 268.44it/s]\u001b[A\n",
            " 62%|██████▏   | 3725/6000 [00:13<00:08, 269.72it/s]\u001b[A\n",
            " 63%|██████▎   | 3753/6000 [00:13<00:08, 272.27it/s]\u001b[A\n",
            " 63%|██████▎   | 3782/6000 [00:13<00:07, 277.28it/s]\u001b[A\n",
            " 64%|██████▎   | 3811/6000 [00:13<00:07, 280.81it/s]\u001b[A\n",
            " 64%|██████▍   | 3840/6000 [00:13<00:07, 282.10it/s]\u001b[A\n",
            " 64%|██████▍   | 3869/6000 [00:14<00:07, 277.30it/s]\u001b[A\n",
            " 65%|██████▍   | 3898/6000 [00:14<00:07, 279.55it/s]\u001b[A\n",
            " 65%|██████▌   | 3927/6000 [00:14<00:07, 280.72it/s]\u001b[A\n",
            " 66%|██████▌   | 3956/6000 [00:14<00:07, 267.82it/s]\u001b[A\n",
            " 66%|██████▋   | 3983/6000 [00:14<00:07, 265.84it/s]\u001b[A\n",
            " 67%|██████▋   | 4012/6000 [00:14<00:07, 272.45it/s]\u001b[A\n",
            " 67%|██████▋   | 4040/6000 [00:14<00:07, 274.06it/s]\u001b[A\n",
            " 68%|██████▊   | 4069/6000 [00:14<00:06, 276.35it/s]\u001b[A\n",
            " 68%|██████▊   | 4097/6000 [00:14<00:06, 275.44it/s]\u001b[A\n",
            " 69%|██████▉   | 4126/6000 [00:14<00:06, 277.37it/s]\u001b[A\n",
            " 69%|██████▉   | 4154/6000 [00:15<00:06, 272.45it/s]\u001b[A\n",
            " 70%|██████▉   | 4183/6000 [00:15<00:06, 277.19it/s]\u001b[A\n",
            " 70%|███████   | 4211/6000 [00:15<00:06, 275.47it/s]\u001b[A\n",
            " 71%|███████   | 4240/6000 [00:15<00:06, 277.25it/s]\u001b[A\n",
            " 71%|███████   | 4268/6000 [00:15<00:06, 271.37it/s]\u001b[A\n",
            " 72%|███████▏  | 4296/6000 [00:15<00:06, 272.43it/s]\u001b[A\n",
            " 72%|███████▏  | 4326/6000 [00:15<00:06, 277.88it/s]\u001b[A\n",
            " 73%|███████▎  | 4354/6000 [00:15<00:05, 276.14it/s]\u001b[A\n",
            " 73%|███████▎  | 4382/6000 [00:15<00:05, 275.46it/s]\u001b[A\n",
            " 74%|███████▎  | 4410/6000 [00:15<00:05, 273.83it/s]\u001b[A\n",
            " 74%|███████▍  | 4439/6000 [00:16<00:05, 278.03it/s]\u001b[A\n",
            " 74%|███████▍  | 4467/6000 [00:16<00:05, 274.49it/s]\u001b[A\n",
            " 75%|███████▍  | 4497/6000 [00:16<00:05, 280.03it/s]\u001b[A\n",
            " 75%|███████▌  | 4526/6000 [00:16<00:05, 274.59it/s]\u001b[A\n",
            " 76%|███████▌  | 4554/6000 [00:16<00:05, 275.06it/s]\u001b[A\n",
            " 76%|███████▋  | 4582/6000 [00:16<00:05, 271.68it/s]\u001b[A\n",
            " 77%|███████▋  | 4610/6000 [00:16<00:05, 271.58it/s]\u001b[A\n",
            " 77%|███████▋  | 4639/6000 [00:16<00:04, 274.61it/s]\u001b[A\n",
            " 78%|███████▊  | 4668/6000 [00:16<00:04, 278.50it/s]\u001b[A\n",
            " 78%|███████▊  | 4696/6000 [00:17<00:04, 273.72it/s]\u001b[A\n",
            " 79%|███████▉  | 4725/6000 [00:17<00:04, 275.47it/s]\u001b[A\n",
            " 79%|███████▉  | 4753/6000 [00:17<00:04, 276.00it/s]\u001b[A\n",
            " 80%|███████▉  | 4781/6000 [00:17<00:04, 271.84it/s]\u001b[A\n",
            " 80%|████████  | 4809/6000 [00:17<00:04, 265.18it/s]\u001b[A\n",
            " 81%|████████  | 4836/6000 [00:17<00:04, 266.02it/s]\u001b[A\n",
            " 81%|████████  | 4864/6000 [00:17<00:04, 269.08it/s]\u001b[A\n",
            " 82%|████████▏ | 4892/6000 [00:17<00:04, 270.40it/s]\u001b[A\n",
            " 82%|████████▏ | 4920/6000 [00:17<00:04, 265.42it/s]\u001b[A\n",
            " 82%|████████▏ | 4949/6000 [00:17<00:03, 271.65it/s]\u001b[A\n",
            " 83%|████████▎ | 4977/6000 [00:18<00:03, 273.19it/s]\u001b[A\n",
            " 83%|████████▎ | 5006/6000 [00:18<00:03, 277.78it/s]\u001b[A\n",
            " 84%|████████▍ | 5034/6000 [00:18<00:03, 277.21it/s]\u001b[A\n",
            " 84%|████████▍ | 5062/6000 [00:18<00:03, 275.42it/s]\u001b[A\n",
            " 85%|████████▍ | 5090/6000 [00:18<00:03, 274.10it/s]\u001b[A\n",
            " 85%|████████▌ | 5118/6000 [00:18<00:03, 274.98it/s]\u001b[A\n",
            " 86%|████████▌ | 5146/6000 [00:18<00:03, 273.54it/s]\u001b[A\n",
            " 86%|████████▋ | 5175/6000 [00:18<00:02, 276.20it/s]\u001b[A\n",
            " 87%|████████▋ | 5203/6000 [00:18<00:02, 274.46it/s]\u001b[A\n",
            " 87%|████████▋ | 5231/6000 [00:18<00:02, 271.31it/s]\u001b[A\n",
            " 88%|████████▊ | 5259/6000 [00:19<00:02, 268.50it/s]\u001b[A\n",
            " 88%|████████▊ | 5287/6000 [00:19<00:02, 269.71it/s]\u001b[A\n",
            " 89%|████████▊ | 5318/6000 [00:19<00:02, 278.78it/s]\u001b[A\n",
            " 89%|████████▉ | 5346/6000 [00:19<00:02, 278.79it/s]\u001b[A\n",
            " 90%|████████▉ | 5374/6000 [00:19<00:02, 273.80it/s]\u001b[A\n",
            " 90%|█████████ | 5403/6000 [00:19<00:02, 277.29it/s]\u001b[A\n",
            " 91%|█████████ | 5431/6000 [00:19<00:02, 276.20it/s]\u001b[A\n",
            " 91%|█████████ | 5459/6000 [00:19<00:01, 274.93it/s]\u001b[A\n",
            " 91%|█████████▏| 5487/6000 [00:19<00:01, 275.82it/s]\u001b[A\n",
            " 92%|█████████▏| 5515/6000 [00:20<00:01, 272.04it/s]\u001b[A\n",
            " 92%|█████████▏| 5543/6000 [00:20<00:01, 264.28it/s]\u001b[A\n",
            " 93%|█████████▎| 5570/6000 [00:20<00:01, 265.52it/s]\u001b[A\n",
            " 93%|█████████▎| 5600/6000 [00:20<00:01, 274.27it/s]\u001b[A\n",
            " 94%|█████████▍| 5628/6000 [00:20<00:01, 267.62it/s]\u001b[A\n",
            " 94%|█████████▍| 5655/6000 [00:20<00:01, 267.00it/s]\u001b[A\n",
            " 95%|█████████▍| 5684/6000 [00:20<00:01, 272.33it/s]\u001b[A\n",
            " 95%|█████████▌| 5712/6000 [00:20<00:01, 272.03it/s]\u001b[A\n",
            " 96%|█████████▌| 5741/6000 [00:20<00:00, 274.86it/s]\u001b[A\n",
            " 96%|█████████▌| 5769/6000 [00:20<00:00, 273.86it/s]\u001b[A\n",
            " 97%|█████████▋| 5797/6000 [00:21<00:00, 274.68it/s]\u001b[A\n",
            " 97%|█████████▋| 5826/6000 [00:21<00:00, 276.80it/s]\u001b[A\n",
            " 98%|█████████▊| 5854/6000 [00:21<00:00, 275.90it/s]\u001b[A\n",
            " 98%|█████████▊| 5882/6000 [00:21<00:00, 271.77it/s]\u001b[A\n",
            " 98%|█████████▊| 5910/6000 [00:21<00:00, 273.45it/s]\u001b[A\n",
            " 99%|█████████▉| 5939/6000 [00:21<00:00, 277.23it/s]\u001b[A\n",
            " 99%|█████████▉| 5967/6000 [00:21<00:00, 271.68it/s]\u001b[A\n",
            "100%|██████████| 6000/6000 [00:21<00:00, 275.14it/s]\n"
          ],
          "name": "stderr"
        }
      ]
    },
    {
      "cell_type": "code",
      "metadata": {
        "id": "EhVbbVjPsFqP"
      },
      "source": [
        "np.save(\"/content/drive/MyDrive/Test_Extracted_Features/Inceptionv3_features_test.npy\",Incept_Features_Test)"
      ],
      "execution_count": 23,
      "outputs": []
    },
    {
      "cell_type": "code",
      "metadata": {
        "colab": {
          "base_uri": "https://localhost:8080/"
        },
        "id": "Sf6M5feRDP_s",
        "outputId": "45f21ed2-45b9-4340-849b-a3889fc1033d"
      },
      "source": [
        "Incept_Features_Test = np.load(\"/content/drive/MyDrive/Test_Extracted_Features/Inceptionv3_features_test.npy\")\n",
        "Incept_Features_Test= Incept_Features_Test[:,0].reshape(-1, 1)\n",
        "Incept_Features_Test.shape"
      ],
      "execution_count": 123,
      "outputs": [
        {
          "output_type": "execute_result",
          "data": {
            "text/plain": [
              "(2000, 1)"
            ]
          },
          "metadata": {
            "tags": []
          },
          "execution_count": 123
        }
      ]
    },
    {
      "cell_type": "markdown",
      "metadata": {
        "id": "0R6SKZNae0rL"
      },
      "source": [
        "## Apply Best Performing ML Algorithm C3D + InceptionV3\n"
      ]
    },
    {
      "cell_type": "markdown",
      "metadata": {
        "id": "nhooO_OkS7xc"
      },
      "source": [
        "### Combining C3D and InceptionV3 test set"
      ]
    },
    {
      "cell_type": "code",
      "metadata": {
        "colab": {
          "base_uri": "https://localhost:8080/"
        },
        "id": "IQweQnCaLiFv",
        "outputId": "bc61c468-15e1-49e5-a151-58056765a777"
      },
      "source": [
        "len(Test_C3D_Feature)"
      ],
      "execution_count": 124,
      "outputs": [
        {
          "output_type": "execute_result",
          "data": {
            "text/plain": [
              "2000"
            ]
          },
          "metadata": {
            "tags": []
          },
          "execution_count": 124
        }
      ]
    },
    {
      "cell_type": "code",
      "metadata": {
        "id": "97MJmJvLdukd"
      },
      "source": [
        "Combine_C3D_InceptionV3_Test = []\n",
        "Combine_C3D_InceptionV3_Test = Test_C3D_Feature.tolist()\n",
        "Count = 0\n",
        "for item in range(2000):\n",
        "    Combine_C3D_InceptionV3_Test[Count] = np.append(Combine_C3D_InceptionV3_Test[Count],Incept_Features_Test[Count],axis=0)\n",
        "    Count = Count+1"
      ],
      "execution_count": 125,
      "outputs": []
    },
    {
      "cell_type": "code",
      "metadata": {
        "id": "_s3fMKYzS4vO",
        "colab": {
          "base_uri": "https://localhost:8080/"
        },
        "outputId": "1dac4518-68ee-41e7-cceb-4535c9735087"
      },
      "source": [
        "len(Combine_C3D_InceptionV3_Test)"
      ],
      "execution_count": 126,
      "outputs": [
        {
          "output_type": "execute_result",
          "data": {
            "text/plain": [
              "2000"
            ]
          },
          "metadata": {
            "tags": []
          },
          "execution_count": 126
        }
      ]
    },
    {
      "cell_type": "markdown",
      "metadata": {
        "id": "q41WsSaOV3IZ"
      },
      "source": [
        "### Training Dev-set"
      ]
    },
    {
      "cell_type": "code",
      "metadata": {
        "colab": {
          "base_uri": "https://localhost:8080/"
        },
        "id": "g8eeCBUZV5il",
        "outputId": "8d666088-8be6-4b23-c741-d7482da8826c"
      },
      "source": [
        "X_Dev_Train = Combine_C3D_InceptionV3_Test\n",
        "Y_Ground_Truth = Ground_Truth_Dev[['short-term_memorability','long-term_memorability']].values\n",
        "print('X : '+ str(len(X_Dev_Train)))\n",
        "print('Y : '+ str(Y_Ground_Truth.shape))\n",
        "print('X_Train : ' + str(len(Combine_C3D_InceptionV3)))"
      ],
      "execution_count": 136,
      "outputs": [
        {
          "output_type": "stream",
          "text": [
            "X : 2000\n",
            "Y : (6000, 2)\n",
            "X_Train : 6000\n"
          ],
          "name": "stdout"
        }
      ]
    },
    {
      "cell_type": "markdown",
      "metadata": {
        "id": "AjYEHl4MVaWv"
      },
      "source": [
        "### Applying Decision Tree Regression on Test C3D + InceptionV3"
      ]
    },
    {
      "cell_type": "code",
      "metadata": {
        "colab": {
          "base_uri": "https://localhost:8080/"
        },
        "id": "yCBC8su5Wwqx",
        "outputId": "4cf91278-d158-4112-e899-4304b55452b1"
      },
      "source": [
        "DTregressor_Test = DecisionTreeRegressor()\n",
        "DTregressor_Test.fit(Combine_C3D_InceptionV3, Y_Ground_Truth)"
      ],
      "execution_count": 137,
      "outputs": [
        {
          "output_type": "execute_result",
          "data": {
            "text/plain": [
              "DecisionTreeRegressor(ccp_alpha=0.0, criterion='mse', max_depth=None,\n",
              "                      max_features=None, max_leaf_nodes=None,\n",
              "                      min_impurity_decrease=0.0, min_impurity_split=None,\n",
              "                      min_samples_leaf=1, min_samples_split=2,\n",
              "                      min_weight_fraction_leaf=0.0, presort='deprecated',\n",
              "                      random_state=None, splitter='best')"
            ]
          },
          "metadata": {
            "tags": []
          },
          "execution_count": 137
        }
      ]
    },
    {
      "cell_type": "code",
      "metadata": {
        "colab": {
          "base_uri": "https://localhost:8080/",
          "height": 197
        },
        "id": "N6dkCiZ2Vin1",
        "outputId": "5ba5caf4-44c1-4ce2-d3f2-4333a48a2e25"
      },
      "source": [
        "Test_Prediction = DTregressor_Test.predict(Combine_C3D_InceptionV3_Test)\n",
        "\n",
        "Prediction_Dataframe = pd.DataFrame()\n",
        "Prediction_Dataframe['short-term'] = Test_Prediction[:,0]\n",
        "Prediction_Dataframe['long-term'] = Test_Prediction[:,1]\n",
        "Prediction_Dataframe.head()"
      ],
      "execution_count": 138,
      "outputs": [
        {
          "output_type": "execute_result",
          "data": {
            "text/html": [
              "<div>\n",
              "<style scoped>\n",
              "    .dataframe tbody tr th:only-of-type {\n",
              "        vertical-align: middle;\n",
              "    }\n",
              "\n",
              "    .dataframe tbody tr th {\n",
              "        vertical-align: top;\n",
              "    }\n",
              "\n",
              "    .dataframe thead th {\n",
              "        text-align: right;\n",
              "    }\n",
              "</style>\n",
              "<table border=\"1\" class=\"dataframe\">\n",
              "  <thead>\n",
              "    <tr style=\"text-align: right;\">\n",
              "      <th></th>\n",
              "      <th>short-term</th>\n",
              "      <th>long-term</th>\n",
              "    </tr>\n",
              "  </thead>\n",
              "  <tbody>\n",
              "    <tr>\n",
              "      <th>0</th>\n",
              "      <td>0.983000</td>\n",
              "      <td>1.000000</td>\n",
              "    </tr>\n",
              "    <tr>\n",
              "      <th>1</th>\n",
              "      <td>0.836000</td>\n",
              "      <td>0.750000</td>\n",
              "    </tr>\n",
              "    <tr>\n",
              "      <th>2</th>\n",
              "      <td>0.867000</td>\n",
              "      <td>0.600000</td>\n",
              "    </tr>\n",
              "    <tr>\n",
              "      <th>3</th>\n",
              "      <td>0.944000</td>\n",
              "      <td>0.861000</td>\n",
              "    </tr>\n",
              "    <tr>\n",
              "      <th>4</th>\n",
              "      <td>0.860477</td>\n",
              "      <td>0.781417</td>\n",
              "    </tr>\n",
              "  </tbody>\n",
              "</table>\n",
              "</div>"
            ],
            "text/plain": [
              "   short-term  long-term\n",
              "0    0.983000   1.000000\n",
              "1    0.836000   0.750000\n",
              "2    0.867000   0.600000\n",
              "3    0.944000   0.861000\n",
              "4    0.860477   0.781417"
            ]
          },
          "metadata": {
            "tags": []
          },
          "execution_count": 138
        }
      ]
    },
    {
      "cell_type": "code",
      "metadata": {
        "colab": {
          "base_uri": "https://localhost:8080/",
          "height": 287
        },
        "id": "rzidDT_ShRqP",
        "outputId": "c0fbbefd-461d-4373-9f9e-782436044f25"
      },
      "source": [
        "Prediction_Dataframe.describe()"
      ],
      "execution_count": 139,
      "outputs": [
        {
          "output_type": "execute_result",
          "data": {
            "text/html": [
              "<div>\n",
              "<style scoped>\n",
              "    .dataframe tbody tr th:only-of-type {\n",
              "        vertical-align: middle;\n",
              "    }\n",
              "\n",
              "    .dataframe tbody tr th {\n",
              "        vertical-align: top;\n",
              "    }\n",
              "\n",
              "    .dataframe thead th {\n",
              "        text-align: right;\n",
              "    }\n",
              "</style>\n",
              "<table border=\"1\" class=\"dataframe\">\n",
              "  <thead>\n",
              "    <tr style=\"text-align: right;\">\n",
              "      <th></th>\n",
              "      <th>short-term</th>\n",
              "      <th>long-term</th>\n",
              "    </tr>\n",
              "  </thead>\n",
              "  <tbody>\n",
              "    <tr>\n",
              "      <th>count</th>\n",
              "      <td>2000.000000</td>\n",
              "      <td>2000.000000</td>\n",
              "    </tr>\n",
              "    <tr>\n",
              "      <th>mean</th>\n",
              "      <td>0.862588</td>\n",
              "      <td>0.779277</td>\n",
              "    </tr>\n",
              "    <tr>\n",
              "      <th>std</th>\n",
              "      <td>0.070322</td>\n",
              "      <td>0.128814</td>\n",
              "    </tr>\n",
              "    <tr>\n",
              "      <th>min</th>\n",
              "      <td>0.476000</td>\n",
              "      <td>0.300000</td>\n",
              "    </tr>\n",
              "    <tr>\n",
              "      <th>25%</th>\n",
              "      <td>0.830000</td>\n",
              "      <td>0.706000</td>\n",
              "    </tr>\n",
              "    <tr>\n",
              "      <th>50%</th>\n",
              "      <td>0.864000</td>\n",
              "      <td>0.781417</td>\n",
              "    </tr>\n",
              "    <tr>\n",
              "      <th>75%</th>\n",
              "      <td>0.919000</td>\n",
              "      <td>0.866625</td>\n",
              "    </tr>\n",
              "    <tr>\n",
              "      <th>max</th>\n",
              "      <td>0.985000</td>\n",
              "      <td>1.000000</td>\n",
              "    </tr>\n",
              "  </tbody>\n",
              "</table>\n",
              "</div>"
            ],
            "text/plain": [
              "        short-term    long-term\n",
              "count  2000.000000  2000.000000\n",
              "mean      0.862588     0.779277\n",
              "std       0.070322     0.128814\n",
              "min       0.476000     0.300000\n",
              "25%       0.830000     0.706000\n",
              "50%       0.864000     0.781417\n",
              "75%       0.919000     0.866625\n",
              "max       0.985000     1.000000"
            ]
          },
          "metadata": {
            "tags": []
          },
          "execution_count": 139
        }
      ]
    },
    {
      "cell_type": "markdown",
      "metadata": {
        "id": "9qdVhDo2fDeT"
      },
      "source": [
        "# Exporting Results"
      ]
    },
    {
      "cell_type": "code",
      "metadata": {
        "id": "GqX6-h7HfSXx"
      },
      "source": [
        "Prediction_Dataframe.to_csv(\"/content/drive/MyDrive/Test_Extracted_Features/Rasika_Mehta_20210036_predictions.csv\",index=False)"
      ],
      "execution_count": 148,
      "outputs": []
    }
  ]
}